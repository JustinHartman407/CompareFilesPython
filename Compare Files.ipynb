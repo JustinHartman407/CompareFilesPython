{
 "cells": [
  {
   "cell_type": "code",
   "execution_count": 1,
   "id": "3b39848d",
   "metadata": {},
   "outputs": [
    {
     "name": "stdout",
     "output_type": "stream",
     "text": [
      "Collecting datacompy\n",
      "  Downloading datacompy-0.7.3-py3-none-any.whl (27 kB)\n",
      "Requirement already satisfied: pandas>=0.25.0 in c:\\users\\jhartman\\anaconda3\\lib\\site-packages (from datacompy) (1.3.4)\n",
      "Collecting ordered-set>=4.0.2\n",
      "  Downloading ordered_set-4.1.0-py3-none-any.whl (7.6 kB)\n",
      "Requirement already satisfied: numpy>=1.11.3 in c:\\users\\jhartman\\anaconda3\\lib\\site-packages (from datacompy) (1.20.3)\n",
      "Requirement already satisfied: python-dateutil>=2.7.3 in c:\\users\\jhartman\\anaconda3\\lib\\site-packages (from pandas>=0.25.0->datacompy) (2.8.2)\n",
      "Requirement already satisfied: pytz>=2017.3 in c:\\users\\jhartman\\anaconda3\\lib\\site-packages (from pandas>=0.25.0->datacompy) (2021.3)\n",
      "Requirement already satisfied: six>=1.5 in c:\\users\\jhartman\\anaconda3\\lib\\site-packages (from python-dateutil>=2.7.3->pandas>=0.25.0->datacompy) (1.16.0)\n",
      "Installing collected packages: ordered-set, datacompyNote: you may need to restart the kernel to use updated packages.\n",
      "\n",
      "Successfully installed datacompy-0.7.3 ordered-set-4.1.0\n"
     ]
    }
   ],
   "source": [
    "pip install datacompy"
   ]
  },
  {
   "cell_type": "code",
   "execution_count": 1,
   "id": "f119b5b1",
   "metadata": {},
   "outputs": [],
   "source": [
    "import pandas as pd\n",
    "import datacompy as dc"
   ]
  },
  {
   "cell_type": "code",
   "execution_count": 2,
   "id": "25d9e74f",
   "metadata": {},
   "outputs": [],
   "source": [
    "df1 = pd.ExcelFile(\"C:/Users/jhartman/Documents/Benchmark/fixed_actualsJan.xlsx\",engine='openpyxl')\n",
    "df1 = pd.read_excel(df1)\n",
    "df2 = pd.ExcelFile(\"C:/Users/jhartman/Documents/Benchmark/dEPM Actuals 2 2022-0301.xlsx\",engine='openpyxl')\n",
    "df2 = pd.read_excel(df2)"
   ]
  },
  {
   "cell_type": "code",
   "execution_count": null,
   "id": "01e40c11",
   "metadata": {},
   "outputs": [],
   "source": []
  },
  {
   "cell_type": "code",
   "execution_count": 3,
   "id": "ac483d59",
   "metadata": {},
   "outputs": [],
   "source": [
    "compare = dc.Compare(\n",
    "df1,\n",
    "df2,\n",
    "join_columns='Entity',\n",
    "df1_name='original',\n",
    "df2_name='new')"
   ]
  },
  {
   "cell_type": "code",
   "execution_count": 4,
   "id": "0d5769b5",
   "metadata": {},
   "outputs": [
    {
     "name": "stdout",
     "output_type": "stream",
     "text": [
      "DataComPy Comparison\n",
      "--------------------\n",
      "\n",
      "DataFrame Summary\n",
      "-----------------\n",
      "\n",
      "  DataFrame  Columns   Rows\n",
      "0  original       27  40058\n",
      "1       new       27  40058\n",
      "\n",
      "Column Summary\n",
      "--------------\n",
      "\n",
      "Number of columns in common: 27\n",
      "Number of columns in original but not in new: 0\n",
      "Number of columns in new but not in original: 0\n",
      "\n",
      "Row Summary\n",
      "-----------\n",
      "\n",
      "Matched on: entity\n",
      "Any duplicates on match values: Yes\n",
      "Absolute Tolerance: 0\n",
      "Relative Tolerance: 0\n",
      "Number of rows in common: 40,058\n",
      "Number of rows in original but not in new: 0\n",
      "Number of rows in new but not in original: 0\n",
      "\n",
      "Number of rows with some compared columns unequal: 78\n",
      "Number of rows with all compared columns equal: 39,980\n",
      "\n",
      "Column Comparison\n",
      "-----------------\n",
      "\n",
      "Number of columns compared with some values unequal: 3\n",
      "Number of columns compared with all values equal: 24\n",
      "Total number of values which compare unequal: 78\n",
      "\n",
      "Columns with Unequal Values or Types\n",
      "------------------------------------\n",
      "\n",
      "           Column original dtype new dtype  # Unequal      Max Diff  # Null Diff\n",
      "0      analysis04         object    object         59  0.000000e+00            0\n",
      "1  primarysegment        float64   float64         14  2.000000e+02            0\n",
      "2           value        float64   float64          5  9.313226e-10            0\n",
      "\n",
      "Sample Rows with Unequal Values\n",
      "-------------------------------\n",
      "\n",
      "       entity analysis04 (original) analysis04 (new)\n",
      "24882     145                   500              500\n",
      "24880     145                   500              500\n",
      "24931     145                   500              500\n",
      "24874     145                   500              500\n",
      "24922     145                   500              500\n",
      "24893     145                   500              500\n",
      "24844     145                   500              500\n",
      "24941     145                   500              500\n",
      "24905     145                   500              500\n",
      "24843     145                   500              500\n",
      "\n",
      "       entity  primarysegment (original)  primarysegment (new)\n",
      "35845     168                      300.0                 100.0\n",
      "35848     168                      300.0                 100.0\n",
      "36371     168                      300.0                 100.0\n",
      "36324     168                      300.0                 100.0\n",
      "36372     168                      300.0                 100.0\n",
      "36311     168                      300.0                 100.0\n",
      "36312     168                      300.0                 100.0\n",
      "36366     168                      300.0                 100.0\n",
      "36369     168                      300.0                 100.0\n",
      "36257     168                      300.0                 100.0\n",
      "\n",
      "       entity  value (original)   value (new)\n",
      "26519     151      1.862645e-09  1.193257e-09\n",
      "26502     151      1.365400e+02  1.365400e+02\n",
      "35370     168     -8.059400e+02 -8.059400e+02\n",
      "18056     135     -7.275958e-12 -1.455192e-11\n",
      "38704     170      0.000000e+00  9.313226e-10\n",
      "\n",
      "\n"
     ]
    }
   ],
   "source": [
    "print(compare.report())"
   ]
  },
  {
   "cell_type": "code",
   "execution_count": null,
   "id": "0344f063",
   "metadata": {},
   "outputs": [],
   "source": []
  }
 ],
 "metadata": {
  "kernelspec": {
   "display_name": "Python 3 (ipykernel)",
   "language": "python",
   "name": "python3"
  },
  "language_info": {
   "codemirror_mode": {
    "name": "ipython",
    "version": 3
   },
   "file_extension": ".py",
   "mimetype": "text/x-python",
   "name": "python",
   "nbconvert_exporter": "python",
   "pygments_lexer": "ipython3",
   "version": "3.9.7"
  }
 },
 "nbformat": 4,
 "nbformat_minor": 5
}
